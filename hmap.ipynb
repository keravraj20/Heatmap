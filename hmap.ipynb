{
  "nbformat": 4,
  "nbformat_minor": 0,
  "metadata": {
    "colab": {
      "name": "hmap.ipynb",
      "provenance": [],
      "collapsed_sections": [],
      "authorship_tag": "ABX9TyPvMhglmJtNBId6cB+K+QpM",
      "include_colab_link": true
    },
    "kernelspec": {
      "name": "python3",
      "display_name": "Python 3"
    }
  },
  "cells": [
    {
      "cell_type": "markdown",
      "metadata": {
        "id": "view-in-github",
        "colab_type": "text"
      },
      "source": [
        "<a href=\"https://colab.research.google.com/github/keravraj20/Heatmap/blob/master/hmap.ipynb\" target=\"_parent\"><img src=\"https://colab.research.google.com/assets/colab-badge.svg\" alt=\"Open In Colab\"/></a>"
      ]
    },
    {
      "cell_type": "code",
      "metadata": {
        "id": "3BdWlm9HyJ4c",
        "colab_type": "code",
        "colab": {
          "base_uri": "https://localhost:8080/",
          "height": 34
        },
        "outputId": "22beb1ae-fce2-42a1-a212-a81bf054a8d7"
      },
      "source": [
        "from google.colab import drive\n",
        "drive.mount('/content/drive')"
      ],
      "execution_count": 1,
      "outputs": [
        {
          "output_type": "stream",
          "text": [
            "Mounted at /content/drive\n"
          ],
          "name": "stdout"
        }
      ]
    },
    {
      "cell_type": "code",
      "metadata": {
        "id": "eVfW5GvYGmoU",
        "colab_type": "code",
        "colab": {
          "base_uri": "https://localhost:8080/",
          "height": 190
        },
        "outputId": "63f03a8a-77cd-46f7-b171-de64304fdab3"
      },
      "source": [
        "!pip install progress"
      ],
      "execution_count": 6,
      "outputs": [
        {
          "output_type": "stream",
          "text": [
            "Collecting progress\n",
            "  Downloading https://files.pythonhosted.org/packages/38/ef/2e887b3d2b248916fc2121889ce68af8a16aaddbe82f9ae6533c24ff0d2b/progress-1.5.tar.gz\n",
            "Building wheels for collected packages: progress\n",
            "  Building wheel for progress (setup.py) ... \u001b[?25l\u001b[?25hdone\n",
            "  Created wheel for progress: filename=progress-1.5-cp36-none-any.whl size=8074 sha256=6d183fb8c14ba58d476ee905f9100184882c797eead4ff1d9e3867015874edf1\n",
            "  Stored in directory: /root/.cache/pip/wheels/6c/c8/80/32a294e3041f006c661838c05a411c7b7ffc60ff939d14e116\n",
            "Successfully built progress\n",
            "Installing collected packages: progress\n",
            "Successfully installed progress-1.5\n"
          ],
          "name": "stdout"
        }
      ]
    },
    {
      "cell_type": "markdown",
      "metadata": {
        "id": "_03b4kiBMRsh",
        "colab_type": "text"
      },
      "source": [
        "### **to produce heatmap**"
      ]
    },
    {
      "cell_type": "code",
      "metadata": {
        "id": "RnXc4ZEvMO76",
        "colab_type": "code",
        "colab": {}
      },
      "source": [
        "import numpy as np\n",
        "import cv2\n",
        "import copy\n",
        "from makevideo import make_video\n",
        "from progress.bar import Bar\n",
        "\n",
        "\n",
        "def main():\n",
        "    capture = cv2.VideoCapture('pedestrian.webm')\n",
        "    background_subtractor = cv2.bgsegm.createBackgroundSubtractorMOG()\n",
        "    length = int(capture.get(cv2.CAP_PROP_FRAME_COUNT))\n",
        "\n",
        "    bar = Bar('Processing Frames', max=length)\n",
        "\n",
        "    first_iteration_indicator = 1\n",
        "    for i in range(0, length):\n",
        "\n",
        "        ret, frame = capture.read()\n",
        "\n",
        "        # If first frame\n",
        "        if first_iteration_indicator == 1:\n",
        "\n",
        "            first_frame = copy.deepcopy(frame)\n",
        "            height, width = frame.shape[:2]\n",
        "            accum_image = np.zeros((height, width), np.uint8)\n",
        "            first_iteration_indicator = 0\n",
        "        else:\n",
        "\n",
        "            filter = background_subtractor.apply(frame)  # remove the background\n",
        "            cv2.imwrite('./frame.jpg', frame)\n",
        "            cv2.imwrite('./diff-bkgnd-frame.jpg', filter)\n",
        "\n",
        "            threshold = 2\n",
        "            maxValue = 2\n",
        "            ret, th1 = cv2.threshold(filter, threshold, maxValue, cv2.THRESH_BINARY)\n",
        "\n",
        "            # add to the accumulated image\n",
        "            accum_image = cv2.add(accum_image, th1)\n",
        "            cv2.imwrite('./mask.jpg', accum_image)\n",
        "\n",
        "            color_image_video = cv2.applyColorMap(accum_image, cv2.COLORMAP_SUMMER)\n",
        "\n",
        "            video_frame = cv2.addWeighted(frame, 0.7, color_image_video, 0.7, 0)\n",
        "\n",
        "            name = \"./frames/frame%d.jpg\" % i\n",
        "            cv2.imwrite(name, video_frame)\n",
        "\n",
        "            if cv2.waitKey(1) & 0xFF == ord('q'):\n",
        "                break\n",
        "        bar.next()\n",
        "\n",
        "    bar.finish()\n",
        "\n",
        "    make_video('./frames/', './output.avi')\n",
        "\n",
        "    color_image = cv2.applyColorMap(accum_image, cv2.COLORMAP_HOT)\n",
        "    result_overlay = cv2.addWeighted(first_frame, 0.7, color_image, 0.7, 0)\n",
        "\n",
        "    # save the final heatmap\n",
        "    cv2.imwrite('diff-overlay.jpg', result_overlay)\n",
        "\n",
        "    # cleanup\n",
        "    capture.release()\n",
        "    cv2.destroyAllWindows()\n",
        "\n",
        "\n",
        "if __name__ == '__main__':\n",
        "    main()\n"
      ],
      "execution_count": null,
      "outputs": []
    },
    {
      "cell_type": "markdown",
      "metadata": {
        "id": "yzSvQ42_MjiB",
        "colab_type": "text"
      },
      "source": [
        "# makevideo"
      ]
    },
    {
      "cell_type": "code",
      "metadata": {
        "id": "tCAVKlIaMtMY",
        "colab_type": "code",
        "colab": {}
      },
      "source": [
        "import cv2\n",
        "import os\n",
        "import re\n",
        "from progress.bar import Bar\n",
        "\n",
        "def atoi(text):\n",
        "    # A helper function to return digits inside text\n",
        "    return int(text) if text.isdigit() else text\n",
        "\n",
        "\n",
        "def natural_keys(text):\n",
        "    # A helper function to generate keys for sorting frames AKA natural sorting\n",
        "    return [atoi(c) for c in re.split(r'(\\d+)', text)]\n",
        "\n",
        "\n",
        "def make_video(image_folder, video_name):\n",
        "    images = [img for img in os.listdir(image_folder)]\n",
        "    images.sort(key=natural_keys)\n",
        "\n",
        "    frame = cv2.imread(os.path.join(image_folder, images[0]))\n",
        "    height, width, layers = frame.shape\n",
        "\n",
        "    fourcc = cv2.VideoWriter_fourcc(*\"MJPG\")\n",
        "\n",
        "    video = cv2.VideoWriter(video_name, fourcc, 30.0, (width, height))\n",
        "    bar = Bar('Creating Video', max=len(images))\n",
        "\n",
        "    for image in images:\n",
        "        video.write(cv2.imread(os.path.join(image_folder, image)))\n",
        "        bar.next()\n",
        "\n",
        "    cv2.destroyAllWindows()\n",
        "    video.release()\n",
        "\n",
        "    for file in os.listdir(image_folder):\n",
        "        os.remove(image_folder + file)\n"
      ],
      "execution_count": null,
      "outputs": []
    },
    {
      "cell_type": "markdown",
      "metadata": {
        "id": "ObGTROjTM7My",
        "colab_type": "text"
      },
      "source": [
        "# run file"
      ]
    },
    {
      "cell_type": "code",
      "metadata": {
        "id": "dyUPTNKaM6DK",
        "colab_type": "code",
        "colab": {
          "base_uri": "https://localhost:8080/",
          "height": 51
        },
        "outputId": "43761efc-fac0-4d0c-f8d8-53bab635f946"
      },
      "source": [
        "!cd \"/content/drive/My Drive/heatmap\" && python heatmap.py"
      ],
      "execution_count": 37,
      "outputs": [
        {
          "output_type": "stream",
          "text": [
            "\u001b[KProcessing Frames |################################| 296/296\n",
            "\u001b[KCreating Video |################################| 295/295"
          ],
          "name": "stdout"
        }
      ]
    }
  ]
}